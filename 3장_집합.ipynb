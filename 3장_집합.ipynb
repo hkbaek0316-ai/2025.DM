{
  "nbformat": 4,
  "nbformat_minor": 0,
  "metadata": {
    "colab": {
      "provenance": [],
      "authorship_tag": "ABX9TyPsj8Iaah5QUioR/bzZpw5e",
      "include_colab_link": true
    },
    "kernelspec": {
      "name": "python3",
      "display_name": "Python 3"
    },
    "language_info": {
      "name": "python"
    }
  },
  "cells": [
    {
      "cell_type": "markdown",
      "metadata": {
        "id": "view-in-github",
        "colab_type": "text"
      },
      "source": [
        "<a href=\"https://colab.research.google.com/github/hkbaek0316-ai/2025.DM/blob/main/3%EC%9E%A5_%EC%A7%91%ED%95%A9.ipynb\" target=\"_parent\"><img src=\"https://colab.research.google.com/assets/colab-badge.svg\" alt=\"Open In Colab\"/></a>"
      ]
    },
    {
      "cell_type": "code",
      "execution_count": 1,
      "metadata": {
        "colab": {
          "base_uri": "https://localhost:8080/"
        },
        "id": "Gax_1mLYzzGP",
        "outputId": "0d81ba2d-d7f5-4f84-c6e6-19cde6d41ae9"
      },
      "outputs": [
        {
          "output_type": "stream",
          "name": "stdout",
          "text": [
            "Hello world!\n"
          ]
        }
      ],
      "source": [
        "print(\"Hello world!\")"
      ]
    },
    {
      "cell_type": "code",
      "source": [
        "s1=set([1,2,3])\n",
        "print(s1)\n",
        "s2=set([2,3,4])\n",
        "print(s2)\n",
        "\n",
        "print(s1 & s2)\n",
        "print(s1 | s2)\n",
        "print(s1 - s2)"
      ],
      "metadata": {
        "colab": {
          "base_uri": "https://localhost:8080/"
        },
        "id": "2JT3TAk41P6v",
        "outputId": "d5f54500-f2d9-48d0-af6e-60d25f7bc845"
      },
      "execution_count": 2,
      "outputs": [
        {
          "output_type": "stream",
          "name": "stdout",
          "text": [
            "{1, 2, 3}\n",
            "{2, 3, 4}\n",
            "{2, 3}\n",
            "{1, 2, 3, 4}\n",
            "{1}\n"
          ]
        }
      ]
    },
    {
      "cell_type": "code",
      "source": [
        "# 두 은행의 고객 집합 선언\n",
        "bankA_customers = set([\"김철수\", \"이영희\", \"박민수\", \"최지우\"])\n",
        "bankB_customers = set([\"이영희\", \"최지우\", \"정우성\", \"한지민\"])\n",
        "\n",
        "print(\"은행 A 고객\", bankA_customers)\n",
        "print(\"은행 B 고객\", bankB_customers)\n",
        "\n",
        "total_customers = bankA_customers | bankB_customers\n",
        "print(\"합병 후 전체 고객\", total_customers)\n",
        "\n",
        "common_customers = bankA_customers & bankB_customers\n",
        "print(\"공통 고객\", common_customers)\n",
        "\n",
        "only_A_customers = bankA_customers - bankB_customers\n",
        "print(\"A 은행에만 있는 고객\", only_A_customers)\n",
        "\n",
        "only_B_customers = bankB_customers - bankA_customers\n",
        "print(\"B 은햏에만 있는 고객\", only_B_customers)"
      ],
      "metadata": {
        "colab": {
          "base_uri": "https://localhost:8080/"
        },
        "id": "0uyEi-7p2M28",
        "outputId": "ddb9c654-ccf0-4beb-b1fa-3f67195cc07b"
      },
      "execution_count": 3,
      "outputs": [
        {
          "output_type": "stream",
          "name": "stdout",
          "text": [
            "은행 A 고객 {'최지우', '김철수', '이영희', '박민수'}\n",
            "은행 B 고객 {'최지우', '정우성', '한지민', '이영희'}\n",
            "합병 후 전체 고객 {'최지우', '이영희', '정우성', '박민수', '김철수', '한지민'}\n",
            "공통 고객 {'최지우', '이영희'}\n",
            "A 은행에만 있는 고객 {'김철수', '박민수'}\n",
            "B 은햏에만 있는 고객 {'정우성', '한지민'}\n"
          ]
        }
      ]
    },
    {
      "cell_type": "code",
      "source": [
        "import numpy as np\n",
        "\n",
        "faber_castell_colors = {\n",
        "    \"White\": (255, 255, 255),\n",
        "    \"Black\": (0, 0, 0),\n",
        "    \"Brown\": (150, 75, 0),\n",
        "    \"Orange\": (255, 127, 0),\n",
        "    \"Red\": (255, 0, 0),\n",
        "    \"Yellow\": (255, 255, 0),\n",
        "    \"Light green\": (0, 255, 255),\n",
        "    \"Green\": (0, 128, 0),\n",
        "    \"Light Blue\": (0, 255, 255)\n",
        "    \"Blue\": (0, 0, 255)\n",
        "    \"Puple\": (128, 0, 128)\n",
        "}"
      ],
      "metadata": {
        "id": "KX4yBX5-4heF"
      },
      "execution_count": null,
      "outputs": []
    }
  ]
}