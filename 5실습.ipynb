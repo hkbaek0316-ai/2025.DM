{
  "nbformat": 4,
  "nbformat_minor": 0,
  "metadata": {
    "colab": {
      "provenance": [],
      "authorship_tag": "ABX9TyMoibEmV6X2WV71Zo0d6Qeg",
      "include_colab_link": true
    },
    "kernelspec": {
      "name": "python3",
      "display_name": "Python 3"
    },
    "language_info": {
      "name": "python"
    }
  },
  "cells": [
    {
      "cell_type": "markdown",
      "metadata": {
        "id": "view-in-github",
        "colab_type": "text"
      },
      "source": [
        "<a href=\"https://colab.research.google.com/github/hkbaek0316-ai/2025.DM/blob/main/5%EC%8B%A4%EC%8A%B5.ipynb\" target=\"_parent\"><img src=\"https://colab.research.google.com/assets/colab-badge.svg\" alt=\"Open In Colab\"/></a>"
      ]
    },
    {
      "cell_type": "code",
      "execution_count": 1,
      "metadata": {
        "id": "gpHoWSsaIHp9"
      },
      "outputs": [],
      "source": [
        "import numpy as np\n",
        "import networkx as nx\n",
        "import matplotlib.pyplot as plt\n"
      ]
    },
    {
      "cell_type": "code",
      "source": [
        "A = {1,2,3}\n",
        "B = {2,3,4}\n",
        " # A에서 B로 가는 이항관계 R\n",
        "R = {(1,2),(2,3),(3,2),(3,4)}\n",
        "\n",
        "print(\"관계R:\",R)"
      ],
      "metadata": {
        "colab": {
          "base_uri": "https://localhost:8080/"
        },
        "id": "vvoKccgkIdPn",
        "outputId": "2ef2b37a-124a-4327-91df-7db501c95484"
      },
      "execution_count": 2,
      "outputs": [
        {
          "output_type": "stream",
          "name": "stdout",
          "text": [
            "관계R: {(2, 3), (3, 2), (1, 2), (3, 4)}\n"
          ]
        }
      ]
    },
    {
      "cell_type": "code",
      "source": [
        "A_list = sorted(A)\n",
        "B_list = sorted(B)\n",
        "\n",
        "relation_matrix = np.zeros((len(A_list), len(B_list)), dtype=int)\n",
        "\n",
        "for i, a in enumerate(A_list):\n",
        "  for j, b in enumerate(B_list):\n",
        "    if (a, b) in R:\n",
        "      relation_matrix[i, j] = 1\n",
        "\n",
        "print(\"관계행렬 (rows: A, columns: B):\")\n",
        "print(relation_matrix)"
      ],
      "metadata": {
        "colab": {
          "base_uri": "https://localhost:8080/"
        },
        "id": "yse0xDA5I02j",
        "outputId": "305724ee-3308-4180-faec-677d90edda9b"
      },
      "execution_count": 3,
      "outputs": [
        {
          "output_type": "stream",
          "name": "stdout",
          "text": [
            "관계행렬 (rows: A, columns: B):\n",
            "[[1 0 0]\n",
            " [0 1 0]\n",
            " [1 0 1]]\n"
          ]
        }
      ]
    },
    {
      "cell_type": "code",
      "source": [
        "# R: A -> B\n",
        "# S: B -> C\n",
        "C = {'x','y'}\n",
        "S = {(2,'x'), (3,'y'), (4,'x')}\n",
        "\n",
        "# 합성 관계 R'S\n",
        "composed_relation = set()\n",
        "\n",
        "for(a,b1) in R:\n",
        "  for(b2, c) in S:\n",
        "    if b1 == b2:\n",
        "      composed_relation.add((a,c))\n",
        "\n",
        "print(\"\\n합성 관계 R ' S:\", composed_relation)\n",
        "\n"
      ],
      "metadata": {
        "colab": {
          "base_uri": "https://localhost:8080/"
        },
        "id": "5VrvqSXXJljR",
        "outputId": "9493f696-08a4-4968-e2ea-808fa130eeaa"
      },
      "execution_count": 4,
      "outputs": [
        {
          "output_type": "stream",
          "name": "stdout",
          "text": [
            "\n",
            "합성 관계 R ' S: {(2, 'y'), (3, 'x'), (1, 'x')}\n"
          ]
        }
      ]
    }
  ]
}